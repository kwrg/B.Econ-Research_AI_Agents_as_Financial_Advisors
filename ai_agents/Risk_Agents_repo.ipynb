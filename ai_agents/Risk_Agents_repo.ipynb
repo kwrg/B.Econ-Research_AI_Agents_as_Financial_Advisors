{
 "cells": [
  {
   "cell_type": "markdown",
   "metadata": {},
   "source": [
    "# Libraries"
   ]
  },
  {
   "cell_type": "code",
   "execution_count": 1,
   "metadata": {},
   "outputs": [],
   "source": [
    "import os\n",
    "from crewai import Agent, Task, Crew, Process\n",
    "import crewai\n",
    "import pandas as pd\n",
    "from crewai_tools import tool\n",
    "from dotenv import load_dotenv\n",
    "from crewai import LLM"
   ]
  },
  {
   "cell_type": "code",
   "execution_count": 3,
   "metadata": {},
   "outputs": [
    {
     "name": "stdout",
     "output_type": "stream",
     "text": [
      "Name: crewaiNote: you may need to restart the kernel to use updated packages.\n",
      "\n",
      "Version: 0.63.2\n",
      "Summary: Cutting-edge framework for orchestrating role-playing, autonomous AI agents. By fostering collaborative intelligence, CrewAI empowers agents to work together seamlessly, tackling complex tasks.\n",
      "Home-page: https://crewai.com\n",
      "Author: Joao Moura\n",
      "Author-email: joao@crewai.com\n",
      "License: \n",
      "Location: c:\\Users\\VICTUS\\AppData\\Local\\Programs\\Python\\Python311\\Lib\\site-packages\n",
      "Requires: appdirs, auth0-python, click, embedchain, instructor, json-repair, jsonref, langchain, litellm, openai, opentelemetry-api, opentelemetry-exporter-otlp-proto-http, opentelemetry-sdk, poetry, pydantic, python-dotenv, regex\n",
      "Required-by: \n"
     ]
    }
   ],
   "source": [
    "pip show crewai"
   ]
  },
  {
   "cell_type": "markdown",
   "metadata": {},
   "source": [
    "# LLM setting"
   ]
  },
  {
   "cell_type": "code",
   "execution_count": 4,
   "metadata": {},
   "outputs": [],
   "source": [
    "load_dotenv()\n",
    "gpt = LLM(\n",
    "    model=\"gpt-4o-mini-2024-07-18\",\n",
    "    temperature=0.0,\n",
    "    top_p=0.1,\n",
    "    api_key=os.getenv(\"OPENAI_API_KEY\")\n",
    ")"
   ]
  },
  {
   "cell_type": "markdown",
   "metadata": {},
   "source": [
    "# Tools"
   ]
  },
  {
   "cell_type": "markdown",
   "metadata": {},
   "source": [
    "## Tool for Financial Analyst"
   ]
  },
  {
   "cell_type": "code",
   "execution_count": 6,
   "metadata": {},
   "outputs": [],
   "source": [
    "class CSVFilterTool:\n",
    "    def __init__(self, csv_file_path=\"news_headline_final_2.csv\"):\n",
    "        self.csv_file_path = csv_file_path\n",
    "\n",
    "    def filter_by_month_and_year(self, month: int, year: int):\n",
    "        df = pd.read_csv(self.csv_file_path, parse_dates=['date'])\n",
    "        filtered_df = df[(df['date'].dt.year == year) &\n",
    "                         (df['date'].dt.month == month)]\n",
    "        filtered_data = filtered_df[['news_headline', 'stock_symbol']]\n",
    "        return filtered_data\n",
    "\n",
    "\n",
    "def filter_2(filtered_data):\n",
    "    \"\"\"\n",
    "    After filtering the news headlines for a specific month and year, organize the data to be stored in a structured format.\n",
    "\n",
    "    Args:\n",
    "        filtered_data (pd.DataFrame): A Data containing the filtered news headlines and stock symbols.\n",
    "\n",
    "    Returns:\n",
    "        str: A Data containing the filtered news headlines and stock symbols for a specific month and year in a structured format. \n",
    "    \"\"\"\n",
    "    results = {}\n",
    "    for stock_symbol, group in filtered_data.groupby('stock_symbol'):\n",
    "        num_headlines = len(group)\n",
    "        titles_combined = \",\".join(group['news_headline'].tolist())\n",
    "        results[stock_symbol] = {\n",
    "            'count': num_headlines,\n",
    "            'titles': titles_combined\n",
    "        }\n",
    "    result2 = \"\"\n",
    "    for stock_symbol, result in results.items():\n",
    "        result2 += f\"Stock: {stock_symbol}\\nNumber of News Headlines: {result['count']}\\nNews Headlines: {result['titles']}\\n\\n\"\n",
    "    return result2\n",
    "\n",
    "\n",
    "@tool\n",
    "def load_data_for_month(month: int, year: int) -> str:\n",
    "    \"\"\"\n",
    "    Load a filtered news headlines in a structured format that associated stock symbols from a CSV file for a specific month and year.\n",
    "\n",
    "    Args:\n",
    "        month (int): The month to filter by (1-12).\n",
    "        year (int): The year to filter by.\n",
    "\n",
    "    Returns:\n",
    "        str: A string representation of the filtered news headlines in a structured format for a specific month and year.\n",
    "    \"\"\"\n",
    "\n",
    "    csv_tool = CSVFilterTool(\"news_headline_final_2.csv\")\n",
    "\n",
    "    filtered_data = csv_tool.filter_by_month_and_year(month, year)\n",
    "\n",
    "    filter_result = filter_2(filtered_data)\n",
    "\n",
    "    return filter_result"
   ]
  },
  {
   "cell_type": "markdown",
   "metadata": {},
   "source": [
    "## Tool for Risk Advisor"
   ]
  },
  {
   "cell_type": "code",
   "execution_count": 7,
   "metadata": {},
   "outputs": [],
   "source": [
    "@tool\n",
    "def gather_stock_details(stocks: str) -> str:\n",
    "    \"\"\"\n",
    "    Gather stock details (Stocks Names, Annual Return and Annual Standard Deviation) for the given stock names.\n",
    "\n",
    "    Args:\n",
    "    stocks (str): Comma-separated stock names as input, e.g. 'stock a', 'stock b', 'stock c'\n",
    "\n",
    "    Returns:\n",
    "    str: The details (Stocks Names, Annual Return and Annual Standard Deviation) of the stocks.\n",
    "    \"\"\"\n",
    "    data = pd.read_csv(\n",
    "        \"risk_historical_data_annual.csv\")\n",
    "\n",
    "    stock_list = [stock.strip() for stock in stocks.split(',')]\n",
    "    print(stock_list)\n",
    "    # filter selected stocks\n",
    "    filtered_data = data[data['Stocks Names'].isin(stock_list)]\n",
    "\n",
    "    if filtered_data.empty:\n",
    "        return \"No data found for the provided stock names.\"\n",
    "\n",
    "    result = \"\"\n",
    "    for index, row in filtered_data.iterrows():\n",
    "        result += (\n",
    "            f\"{row['Stocks Names']}, \"\n",
    "            f\"Annual Return: {row['Annual Return']}, \"\n",
    "            f\"Annual Standard Deviation: {row['Annual Standard Deviation']}\\n\"\n",
    "        )\n",
    "\n",
    "    return result"
   ]
  },
  {
   "cell_type": "markdown",
   "metadata": {},
   "source": [
    "# Agent, Task, Crew"
   ]
  },
  {
   "cell_type": "markdown",
   "metadata": {},
   "source": [
    "## Financial Analyst"
   ]
  },
  {
   "cell_type": "code",
   "execution_count": 8,
   "metadata": {},
   "outputs": [],
   "source": [
    "financial_analyst_agent = Agent(\n",
    "    role='Financial Analyst',\n",
    "    goal=\"\"\"\n",
    "    - Using extensive experience in the Thai financial market, analyze news headlines about Thai stocks in the Thai financial market from the data gathered using the tool: [load_data_for_month]. The goal is to identify investment opportunities based on the most positive sentiment expressed in these headlines. Identify the top 10 stocks to consider for investment next month, as this month is {month}.\n",
    "    \"\"\",\n",
    "    verbose=True,\n",
    "    backstory=\"\"\"\n",
    "    - Specialist with extensive experience in the Thai financial market.\n",
    "    - Expert with a deep understanding of financial knowledge and analytical skills in the Thai financial market.\n",
    "    - Experienced in analyzing stock news headlines to assess sentiment and recommend top-performing stocks.\n",
    "    - Expert in the Thai language, enabling accurate interpretation and analysis of news headlines.\n",
    "\"\"\",\n",
    "    tools=[load_data_for_month],\n",
    "    llm=gpt\n",
    "    ,memory = False\n",
    ")\n",
    "\n",
    "financial_analyst_task = Task(\n",
    "    description=\"\"\"\n",
    "    - Analyze news headlines to identify investment opportunities by selecting the top 10 stocks with the most positive sentiment in their headlines from the data gathered using the tool: [load_data_for_month]. This data will provide stock news headlines for the month of {month} and the year {year}. Utilize your financial knowledge and analytical skills in the Thai financial market to gain insights into these investment opportunities.\n",
    "    - Example of data details:\n",
    "        Stock: Stock A → Name of the stock.\n",
    "        Number of News Headlines: n → The number of news headlines related to the stock mentioned above.\n",
    "        News Headlines: → A list of news headlines related to the stock mentioned above (from latest to oldest within the foling month and year).\n",
    "    \"\"\",\n",
    "\n",
    "    expected_output=\"\"\"\n",
    "    - A report on the top 10 stocks to consider for investment next month, based on an analysis of stock news headlines from the data gathered using the tool: [load_data_for_month]. The selection is focused on identifying the top stocks with the most positive sentiment in their headlines. \n",
    "    - The report must include 3 things:\n",
    "        1. Reason for Selection: An explanation of why each of the top 10 stocks was chosen and provide the insights derived from the news headlines for each selected stock, emphasizing the positive sentiment.\n",
    "        2. Conclusion: A list of the selected top 10 stocks, formatted exactly as 'Stock 1', 'Stock 2'.\n",
    "        - Report format:\n",
    "            1. Stock 1\n",
    "                Reason for Selection: [Explanation]\n",
    "            2. Stock 2\n",
    "                Reason for Selection: [Explanation]\n",
    "            Conclusion: 'Stock 1', 'Stock 2'\n",
    "\n",
    "\"\"\",\n",
    "    agent=financial_analyst_agent\n",
    ")"
   ]
  },
  {
   "cell_type": "markdown",
   "metadata": {},
   "source": [
    "## Risk Advisor"
   ]
  },
  {
   "cell_type": "code",
   "execution_count": 9,
   "metadata": {},
   "outputs": [],
   "source": [
    "from crewai import Crew, Process\n",
    "\n",
    "risk_advisor_agent = Agent(\n",
    "    role='Risk Advisor',\n",
    "    goal=\"\"\"\n",
    "    - Utilizing extensive financial market experience and statistical skills to analyze historical stock data from the stock list provided by the financial_analyst_agent using the tool: [gather_stock_details]. Leverage the Average Annual Return and Annual Standard Deviation of stocks, as gathered by the tool, to identify the top 5 stocks with the {level} risk level.\n",
    "    \"\"\",\n",
    "    verbose=True,\n",
    "    backstory=\"\"\"\n",
    "    - Specialist with extensive experience in the Thai financial market.\n",
    "    - Expert with a deep understanding of financial knowledge and analytical skills in the Thai financial market.\n",
    "    - Specialist in statistics, especially in finance.\n",
    "\"\"\",\n",
    "    llm=gpt \n",
    "    , memory=False,\n",
    "    tools=[gather_stock_details]\n",
    "\n",
    "\n",
    ")\n",
    "\n",
    "risk_advisor_task = Task(\n",
    "    description=\"\"\"\n",
    "    - Analyze the historical stock data of the stock list provided by the financial_analyst_agent. Using the provided Average Annual Return and Annual Standard Deviation and your experience in the financial market and statistical skills, assess the risk of the stock list provided by the financial_analyst_agent, and identify the top 5 stocks with the most {level} of risk for investment. \n",
    "    - Example of data details:\n",
    "        1. The \"Stock Names\" contains the names of each stock.\n",
    "        2. The \"Average Annual Return\" contains the average annual return for each stock based on its historical stock prices from 3/3/2023 to 9/29/2023.\n",
    "        3. The \"Annual Standard Deviation\" contains the annual standard deviation for each stock based on its historical stock prices from 3/3/2023 to 9/29/2023.\n",
    "        - Some stock names might be similar to each other, so it is important to be cautious and ensure that you query or use the correct information for each stock.\n",
    "    - Utilize your financial knowledge, analytical skills, and statistical expertise in the financial market to analyze the historical stock data of the stock list provided by the financial_analyst_agent. Identify the top 5 stocks with the most {level} risk.\n",
    "    \"\"\",\n",
    "\n",
    "    expected_output=\"\"\"\n",
    "    - A report on the top 5 stocks selecting from the stock list provided by the financial_analyst_agent to consider as having the most {level} risk, based on an analysis of historical stock data from the data gathered using the tool.\n",
    "    - The report must include 2 things:\n",
    "        1. Reason for Selection: An in-depth explanation detailing why each of the top 5 stocks was chosen as having the most {level} risk, using data from the data gathered using the tool to like provided Average Annual Return and Annual Standard Deviation to support your explanation. \n",
    "        2. Conclusion: A list of the selected top 5 stocks with the most {level} risk, formatted exactly as 'Stock 1', 'Stock 2'.\n",
    "        - Report format:\n",
    "            1. Stock 1\n",
    "                Reason for Selection: [An in-depth explanation]\n",
    "            2. Stock 2\n",
    "                Reason for Selection: [An in-depth explanation]\n",
    "            Conclusion: 'Stock 1', 'Stock 2'\n",
    "\"\"\",\n",
    "    agent=risk_advisor_agent\n",
    ")"
   ]
  },
  {
   "cell_type": "markdown",
   "metadata": {},
   "source": [
    "## Crew"
   ]
  },
  {
   "cell_type": "code",
   "execution_count": 10,
   "metadata": {},
   "outputs": [],
   "source": [
    "crew = Crew(\n",
    "    agents=[financial_analyst_agent, risk_advisor_agent],\n",
    "    tasks=[financial_analyst_task, risk_advisor_task],\n",
    "    process=Process.sequential\n",
    ")"
   ]
  },
  {
   "cell_type": "markdown",
   "metadata": {},
   "source": [
    "## Usage (Example)"
   ]
  },
  {
   "cell_type": "markdown",
   "metadata": {},
   "source": [
    "- using news 10/2023 - 10/2024\n",
    "- to predict 11/2023 - 11/2024"
   ]
  },
  {
   "cell_type": "code",
   "execution_count": null,
   "metadata": {},
   "outputs": [],
   "source": [
    "from datetime import datetime\n",
    "now = datetime.now()\n",
    "current_time = now.strftime(\"%Y-%m-%d %H:%M:%S\")\n",
    "\n",
    "print(\"Run at\", current_time)\n",
    "result = crew.kickoff(inputs={'year': 2023,\n",
    "                              'month': 10,\n",
    "                              'level': 'high'\n",
    "                              })\n",
    "\n",
    "print(result)"
   ]
  },
  {
   "cell_type": "code",
   "execution_count": null,
   "metadata": {},
   "outputs": [],
   "source": [
    "from datetime import datetime\n",
    "now = datetime.now()\n",
    "current_time = now.strftime(\"%Y-%m-%d %H:%M:%S\")\n",
    "\n",
    "print(\"Run at\", current_time)\n",
    "result = crew.kickoff(inputs={'year': 2023,\n",
    "                              'month': 10,\n",
    "                              'level': 'low'\n",
    "                              })\n",
    "\n",
    "print(result)"
   ]
  }
 ],
 "metadata": {
  "kernelspec": {
   "display_name": "Python 3",
   "language": "python",
   "name": "python3"
  },
  "language_info": {
   "codemirror_mode": {
    "name": "ipython",
    "version": 3
   },
   "file_extension": ".py",
   "mimetype": "text/x-python",
   "name": "python",
   "nbconvert_exporter": "python",
   "pygments_lexer": "ipython3",
   "version": "3.11.4"
  }
 },
 "nbformat": 4,
 "nbformat_minor": 2
}
