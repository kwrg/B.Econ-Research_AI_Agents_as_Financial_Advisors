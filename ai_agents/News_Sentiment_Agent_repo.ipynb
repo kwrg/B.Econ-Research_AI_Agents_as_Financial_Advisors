{
 "cells": [
  {
   "cell_type": "markdown",
   "metadata": {},
   "source": [
    "# Libraries"
   ]
  },
  {
   "cell_type": "code",
   "execution_count": 1,
   "metadata": {},
   "outputs": [],
   "source": [
    "import os\n",
    "from crewai import Agent, Task, Crew, Process\n",
    "import crewai\n",
    "from dotenv import load_dotenv\n",
    "from crewai import LLM\n",
    "from datetime import datetime\n",
    "import time\n",
    "import random\n",
    "import pandas as pd"
   ]
  },
  {
   "cell_type": "code",
   "execution_count": 3,
   "metadata": {},
   "outputs": [
    {
     "name": "stdout",
     "output_type": "stream",
     "text": [
      "Name: crewai\n",
      "Version: 0.63.2\n",
      "Summary: Cutting-edge framework for orchestrating role-playing, autonomous AI agents. By fostering collaborative intelligence, CrewAI empowers agents to work together seamlessly, tackling complex tasks.\n",
      "Home-page: https://crewai.com\n",
      "Author: Joao Moura\n",
      "Author-email: joao@crewai.com\n",
      "License: \n",
      "Location: c:\\Users\\VICTUS\\AppData\\Local\\Programs\\Python\\Python311\\Lib\\site-packages\n",
      "Requires: appdirs, auth0-python, click, embedchain, instructor, json-repair, jsonref, langchain, litellm, openai, opentelemetry-api, opentelemetry-exporter-otlp-proto-http, opentelemetry-sdk, poetry, pydantic, python-dotenv, regex\n",
      "Required-by: \n",
      "Note: you may need to restart the kernel to use updated packages.\n"
     ]
    }
   ],
   "source": [
    "pip show crewai"
   ]
  },
  {
   "cell_type": "markdown",
   "metadata": {},
   "source": [
    "# LLM setting"
   ]
  },
  {
   "cell_type": "code",
   "execution_count": 4,
   "metadata": {},
   "outputs": [],
   "source": [
    "load_dotenv()\n",
    "gpt = LLM(\n",
    "    model=\"gpt-4o-mini-2024-07-18\",\n",
    "    temperature=0.0,\n",
    "    top_p=0.1,\n",
    "    api_key=os.getenv(\"OPENAI_API_KEY\")\n",
    ")"
   ]
  },
  {
   "cell_type": "markdown",
   "metadata": {},
   "source": [
    "# Agent and Task: Financial Analyst"
   ]
  },
  {
   "cell_type": "code",
   "execution_count": 6,
   "metadata": {},
   "outputs": [],
   "source": [
    "financial_analyst_agent = Agent(\n",
    "    role='Financial Analyst',\n",
    "    goal=\"\"\"\n",
    "    - Using extensive experience in the Thai financial market, analyze the news headline: {news_headline} about the Thai stock: {stock_name} and identify whether it is good, bad, or neutral news about that stock.\n",
    "    \"\"\",\n",
    "    verbose=True,\n",
    "    backstory=\"\"\"\n",
    "    - Specialist with extensive experience in the Thai financial market.\n",
    "    - Expert with a deep understanding of financial knowledge and analytical skills in the Thai financial market.\n",
    "    - Experienced in analyzing stock news headlines to assess sentiment.\n",
    "    - Expert in the Thai language, enabling accurate interpretation and analysis of news headlines.\n",
    "\"\"\",\n",
    "    llm=gpt, \n",
    "    memory=False\n",
    ")\n",
    "\n",
    "\n",
    "financial_analyst_task = Task(\n",
    "    description=\n",
    "    \"\"\"\n",
    "    - Analyze the news headline: '{news_headline}' about the Thai stock: '{stock_name}' and identify the sentiment of the news headline as either good, bad, or neutral. The sentiment should be based on whether the news would encourage investors to invest in that stock. If the news headline: '{news_headline}' is not related to the stock: '{stock_name}' at all, mark it as 'neutral'.\n",
    "    \"\"\",\n",
    "\n",
    "    expected_output=\n",
    "    \"\"\"\n",
    "    - A JSON object in this format:\n",
    "        \"news_headline\": {news_headline},\n",
    "        \"stock_name\": \"{stock_name}\",\n",
    "        \"headline_sentiment\": \"<headline_sentiment>\" in the format of only \"good,\" \"bad,\" or \"neutral.\n",
    "    \"\"\",\n",
    "    \n",
    "    agent=financial_analyst_agent\n",
    ")"
   ]
  },
  {
   "cell_type": "markdown",
   "metadata": {},
   "source": [
    "# Usage"
   ]
  },
  {
   "cell_type": "code",
   "execution_count": 7,
   "metadata": {},
   "outputs": [],
   "source": [
    "def filter_by_month_and_year(month: int, year: int):\n",
    "\n",
    "    df = pd.read_csv(\"news_headline.csv\", parse_dates=['date'])\n",
    "\n",
    "    filtered_df = df[(df['date'].dt.year == year) &\n",
    "                     (df['date'].dt.month == month)]\n",
    "\n",
    "    filtered_data = filtered_df[['news_headline', 'stock_symbol']]\n",
    "\n",
    "    return filtered_data\n",
    "\n",
    "\n",
    "crew = Crew(\n",
    "    agents=[financial_analyst_agent],\n",
    "    tasks=[financial_analyst_task],\n",
    "    process=Process.sequential  \n",
    ")\n",
    "\n",
    "\n",
    "def run(month: int, year: int):\n",
    "    filtered_data = filter_by_month_and_year(month, year)\n",
    "    print(f'{filtered_data.shape}')\n",
    "    for index, row in filtered_data.iterrows():\n",
    "        print(\n",
    "            f\"Processing row: {index}, Stock Symbol: {row['stock_symbol']}, News Headline: {row['news_headline']}\")\n",
    "        time.sleep(random.uniform(2, 4))\n",
    "        result = crew.kickoff(\n",
    "            inputs={'news_headline': row['news_headline'], 'stock_name': row['stock_symbol']})\n",
    "        print(result)\n",
    "        now = datetime.now()\n",
    "        current = now.strftime(\"%Y-%m-%d %H:%M:%S\")\n",
    "        print(current)"
   ]
  },
  {
   "cell_type": "code",
   "execution_count": null,
   "metadata": {},
   "outputs": [],
   "source": [
    "# Example\n",
    "run(10,2024)"
   ]
  }
 ],
 "metadata": {
  "kernelspec": {
   "display_name": "Python 3",
   "language": "python",
   "name": "python3"
  },
  "language_info": {
   "codemirror_mode": {
    "name": "ipython",
    "version": 3
   },
   "file_extension": ".py",
   "mimetype": "text/x-python",
   "name": "python",
   "nbconvert_exporter": "python",
   "pygments_lexer": "ipython3",
   "version": "3.11.4"
  }
 },
 "nbformat": 4,
 "nbformat_minor": 2
}
